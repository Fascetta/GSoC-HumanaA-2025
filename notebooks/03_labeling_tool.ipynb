{
 "cells": [
  {
   "cell_type": "markdown",
   "metadata": {},
   "source": [
    "📦 Cell 1 – Imports & Setup"
   ]
  },
  {
   "cell_type": "code",
   "execution_count": 1,
   "metadata": {},
   "outputs": [
    {
     "name": "stdout",
     "output_type": "stream",
     "text": [
      "Jupyter environment detected. Enabling Open3D WebVisualizer.\n",
      "[Open3D INFO] WebRTC GUI backend enabled.\n",
      "[Open3D INFO] WebRTCWindowSystem: HTTP handshake server disabled.\n"
     ]
    }
   ],
   "source": [
    "import json\n",
    "import numpy as np\n",
    "import os\n",
    "import sys\n",
    "import ipywidgets as widgets\n",
    "from IPython.display import display, clear_output\n",
    "import matplotlib.pyplot as plt\n",
    "sys.path.append(os.path.abspath(os.path.join(os.getcwd(), \"..\")))\n",
    "\n",
    "from src.utils.visualization import animate_dance, rotate_data, get_joint_color_config\n",
    "\n",
    "CLUSTERS, CLUSTER_COLORS, JOINT_COLORS = get_joint_color_config()"
   ]
  },
  {
   "cell_type": "markdown",
   "metadata": {},
   "source": [
    "📂 Cell 2 – Load Data & Labels"
   ]
  },
  {
   "cell_type": "code",
   "execution_count": 2,
   "metadata": {},
   "outputs": [],
   "source": [
    "chunk_path = \"../data/processed/mariel_honey_chunks.npy\"\n",
    "metadata_path = \"../data/processed/chunk_metadata.json\"\n",
    "label_path = \"../data/labels/labels.json\"\n",
    "\n",
    "# 🔁 Load chunked data + metadata\n",
    "chunks = np.load(chunk_path)  # shape: (N, T, J, D)\n",
    "with open(metadata_path) as f:\n",
    "    metadata = json.load(f)\n",
    "\n",
    "# 📄 Load or create labels file\n",
    "if os.path.exists(label_path):\n",
    "    with open(label_path, \"r\") as f:\n",
    "        labels = json.load(f)\n",
    "else:\n",
    "    labels = {}"
   ]
  },
  {
   "cell_type": "markdown",
   "metadata": {},
   "source": [
    "💾 Cell 3 – Save Function"
   ]
  },
  {
   "cell_type": "code",
   "execution_count": 3,
   "metadata": {},
   "outputs": [],
   "source": [
    "def save_labels():\n",
    "    with open(label_path, \"w\") as f:\n",
    "        json.dump(labels, f, indent=4)\n",
    "    print(\"✅ Labels saved!\")"
   ]
  },
  {
   "cell_type": "markdown",
   "metadata": {},
   "source": [
    "🧠 Cell 4 – Define Widgets & Layout"
   ]
  },
  {
   "cell_type": "code",
   "execution_count": 4,
   "metadata": {},
   "outputs": [],
   "source": [
    "chunk_selector = widgets.IntSlider(value=0, min=0, max=len(chunks) - 1, description='Chunk:')\n",
    "prev_button = widgets.Button(description=\"⏮️ Prev\", layout=widgets.Layout(width=\"100px\"))\n",
    "next_button = widgets.Button(description=\"⏭️ Next\", layout=widgets.Layout(width=\"100px\"))\n",
    "chunk_id_display = widgets.HTML(value=\"<b>Chunk ID:</b> N/A\", layout=widgets.Layout(margin=\"10px 0\"))\n",
    "label_options = sorted([\n",
    "    \"idle\", \"walking\", \"running\", \"jumping\", \"turning\", \"bending\", \"twisting\",\n",
    "    \"happy\", \"sad\", \"angry\", \"excited\", \"relaxed\", \"dramatic\",\n",
    "    \"hiphop\", \"ballet\", \"contemporary\", \"jazz\", \"salsa\", \"freestyle\", \"robotic\", \"folk\",\n",
    "    \"slow\", \"medium\", \"fast\", \"syncopated\", \"stillness\",\n",
    "    \"solo\", \"duet\", \"floorwork\", \"arm focus\", \"leg focus\", \"spinning\", \"pose\"\n",
    "])\n",
    "text_input = widgets.SelectMultiple(\n",
    "    options=label_options,\n",
    "    description=\"Labels:\",\n",
    "    layout=widgets.Layout(width=\"100%\", height=\"200px\"),\n",
    "    style={'description_width': 'initial'}\n",
    ")\n",
    "save_button = widgets.Button(description=\"💾 Save Label\", button_style=\"success\")\n",
    "feedback_output = widgets.Output()\n",
    "animation_output = widgets.Output()"
   ]
  },
  {
   "cell_type": "markdown",
   "metadata": {},
   "source": [
    "🔄 Cell 5 – Define Callback Logic"
   ]
  },
  {
   "cell_type": "code",
   "execution_count": 5,
   "metadata": {},
   "outputs": [],
   "source": [
    "def update_display(change=None):\n",
    "    index = chunk_selector.value\n",
    "    chunk_id = metadata[index][\"id\"]\n",
    "    current_label = labels.get(chunk_id, [])\n",
    "    if isinstance(current_label, list):\n",
    "        text_input.value = tuple(current_label)  # SelectMultiple uses tuples\n",
    "    else:\n",
    "        text_input.value = ()\n",
    "    chunk_id_display.value = f\"<b>Chunk ID:</b> {chunk_id}\"\n",
    "\n",
    "    with animation_output:\n",
    "        clear_output(wait=True)\n",
    "        chunk = chunks[index]\n",
    "\n",
    "        if chunk.shape[-1] != 3:\n",
    "            raise ValueError(f\"Unexpected shape {chunk.shape}, expected last dim = 3\")\n",
    "        if chunk.shape[1] == 3 and chunk.shape[2] != 3:\n",
    "            chunk = chunk.transpose(1, 0, 2)\n",
    "        chunk = rotate_data(chunk)\n",
    "\n",
    "        print(f\"🕺 Visualizing: {chunk_id}\")\n",
    "        animate_dance(chunk, CLUSTERS, JOINT_COLORS)\n",
    "\n",
    "def on_save_clicked(b):\n",
    "    index = chunk_selector.value\n",
    "    chunk_id = metadata[index][\"id\"]\n",
    "    label_list = list(text_input.value)\n",
    "    if label_list:\n",
    "        labels[chunk_id] = label_list\n",
    "        save_labels()\n",
    "        with feedback_output:\n",
    "            clear_output()\n",
    "            print(f\"✅ Saved labels for {chunk_id}: {label_list}\")\n",
    "    label_list = list(text_input.value)\n",
    "\n",
    "\n",
    "def go_prev(b):\n",
    "    if chunk_selector.value > chunk_selector.min:\n",
    "        chunk_selector.value -= 1\n",
    "\n",
    "def go_next(b):\n",
    "    if chunk_selector.value < chunk_selector.max:\n",
    "        chunk_selector.value += 1"
   ]
  },
  {
   "cell_type": "markdown",
   "metadata": {},
   "source": [
    "🖼️ Cell 6 – Set Event Bindings & Display UI"
   ]
  },
  {
   "cell_type": "code",
   "execution_count": 6,
   "metadata": {},
   "outputs": [
    {
     "data": {
      "application/vnd.jupyter.widget-view+json": {
       "model_id": "6dfb1aff2c254fcc84ec4e452c6d7d7c",
       "version_major": 2,
       "version_minor": 0
      },
      "text/plain": [
       "VBox(children=(HTML(value='<h3>💃 Dance Chunk Labeling Tool</h3>'), HBox(children=(Button(description='⏮️ Prev'…"
      ]
     },
     "metadata": {},
     "output_type": "display_data"
    }
   ],
   "source": [
    "chunk_selector.observe(update_display, names=\"value\")\n",
    "save_button.on_click(on_save_clicked)\n",
    "prev_button.on_click(go_prev)\n",
    "next_button.on_click(go_next)\n",
    "\n",
    "ui = widgets.VBox([\n",
    "    widgets.HTML(value=\"<h3>💃 Dance Chunk Labeling Tool</h3>\"),\n",
    "    widgets.HBox([prev_button, chunk_selector, next_button]),\n",
    "    chunk_id_display,\n",
    "    text_input,\n",
    "    save_button,\n",
    "    feedback_output,\n",
    "    animation_output\n",
    "])\n",
    "\n",
    "display(ui)\n",
    "update_display()\n"
   ]
  }
 ],
 "metadata": {
  "kernelspec": {
   "display_name": ".venv",
   "language": "python",
   "name": "python3"
  },
  "language_info": {
   "codemirror_mode": {
    "name": "ipython",
    "version": 3
   },
   "file_extension": ".py",
   "mimetype": "text/x-python",
   "name": "python",
   "nbconvert_exporter": "python",
   "pygments_lexer": "ipython3",
   "version": "3.12.3"
  }
 },
 "nbformat": 4,
 "nbformat_minor": 2
}
